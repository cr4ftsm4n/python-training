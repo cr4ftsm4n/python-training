{
 "cells": [
  {
   "cell_type": "markdown",
   "metadata": {},
   "source": [
    "# iterator"
   ]
  },
  {
   "cell_type": "markdown",
   "metadata": {},
   "source": [
    "## イテレータ\n",
    "* 要素を反復して取り出すことのできるインタフェース"
   ]
  },
  {
   "cell_type": "markdown",
   "metadata": {},
   "source": [
    "あるオブジェクトをforのinなどのイテレータを期待するコンテクストに置くと、まずオブジェクトの__iter__()メソッドが呼ばれ、イテレータ実装を返すことが求められます。\n",
    "<br>\n",
    "この返り値で得られたオブジェクトはnext()というメソッドが呼ばれます。next()はStopIteration例外が出るまで呼ばれます。"
   ]
  },
  {
   "cell_type": "markdown",
   "metadata": {},
   "source": [
    "#### for statement\n",
    "Behind the scenes, the for statement calls iter() on the container object. "
   ]
  },
  {
   "cell_type": "code",
   "execution_count": null,
   "metadata": {},
   "outputs": [],
   "source": [
    "class MyIterator(object):\n",
    "    def __init__(self, *numbers):\n",
    "        self._numbers = numbers\n",
    "        self._i = 0\n",
    "    def __iter__(self):\n",
    "        # next()はselfが実装してるのでそのままselfを返す\n",
    "        return self\n",
    "    def __next__(self):\n",
    "        if self._i == len(self._numbers):\n",
    "            raise StopIteration()\n",
    "        value = self._numbers[self._i]\n",
    "        self._i += 1\n",
    "        return value"
   ]
  },
  {
   "cell_type": "code",
   "execution_count": null,
   "metadata": {},
   "outputs": [],
   "source": [
    "my_iterator = MyIterator(10, 20, 30)\n",
    "for num in my_iterator:\n",
    "    print('hello %d' % num) "
   ]
  },
  {
   "cell_type": "markdown",
   "metadata": {},
   "source": [
    "### In Python, iterable and iterator have specific meanings.\n",
    "\n",
    "#### iterable\n",
    "* An iterable is an object that has an `__iter__` method which returns an iterator, \n",
    "* or which defines a  `__getitem__` method that can take sequential indexes starting from zero (and raises an IndexError when the indexes are no longer valid). \n",
    "* So an iterable is an object that you can get an iterator from.\n",
    "\n",
    "#### iterator(迭代器)\n",
    "* An iterator is an object with a `next` (Python 2) or `__next__` (Python 3) method.\n",
    "\n"
   ]
  },
  {
   "cell_type": "code",
   "execution_count": null,
   "metadata": {},
   "outputs": [],
   "source": [
    "s = 'cat'          # s is an ITERABLE\n",
    "                   # s is a str object that is immutable\n",
    "                   # s has no state\n",
    "                   # s has a __getitem__() method "
   ]
  },
  {
   "cell_type": "code",
   "execution_count": null,
   "metadata": {},
   "outputs": [],
   "source": [
    "help(iter)"
   ]
  },
  {
   "cell_type": "code",
   "execution_count": null,
   "metadata": {},
   "outputs": [],
   "source": [
    "t = iter(s)        # t is an ITERATOR\n",
    "                   # t has state (it starts by pointing at the \"c\"\n",
    "                   # t has a next() method and an __iter__() method"
   ]
  },
  {
   "cell_type": "code",
   "execution_count": null,
   "metadata": {},
   "outputs": [],
   "source": [
    "print(t)"
   ]
  },
  {
   "cell_type": "code",
   "execution_count": null,
   "metadata": {},
   "outputs": [],
   "source": [
    "next(t)"
   ]
  },
  {
   "cell_type": "code",
   "execution_count": null,
   "metadata": {},
   "outputs": [],
   "source": [
    "iter(t) is t   # the iterator is self-iterable"
   ]
  },
  {
   "cell_type": "markdown",
   "metadata": {},
   "source": [
    "# Generator"
   ]
  },
  {
   "cell_type": "markdown",
   "metadata": {},
   "source": [
    "## ジェネレータ\n",
    "* イテレータの一種であり、1要素を取り出そうとする度に処理を行い、要素をジェネレートするタイプのもの。\n",
    "* Pythonではyield文を使った実装を指すことが多いと思われる。"
   ]
  },
  {
   "cell_type": "code",
   "execution_count": null,
   "metadata": {},
   "outputs": [],
   "source": [
    "def my_generator():\n",
    "    yield 1\n",
    "    yield 2\n",
    "    yield 3"
   ]
  },
  {
   "cell_type": "code",
   "execution_count": null,
   "metadata": {},
   "outputs": [],
   "source": [
    "for x in my_generator():\n",
    "    print(x)"
   ]
  },
  {
   "cell_type": "markdown",
   "metadata": {},
   "source": [
    "#### ジェネレータ関数内ではreturn文は使えません ので注意です。"
   ]
  },
  {
   "cell_type": "code",
   "execution_count": null,
   "metadata": {},
   "outputs": [],
   "source": [
    "# Generators help you make lazy code.\n",
    "def double_numbers(iterable):\n",
    "    for i in iterable:\n",
    "        yield i + i"
   ]
  },
  {
   "cell_type": "code",
   "execution_count": null,
   "metadata": {},
   "outputs": [],
   "source": [
    "# Generators are memory-efficient because they only load the data needed to\n",
    "# process the next value in the iterable. This allows them to perform\n",
    "# operations on otherwise prohibitively large value ranges.\n",
    "for i in double_numbers(range(1, 900000000)):  # `range` is a generator.\n",
    "    print(i)\n",
    "    if i >= 30:\n",
    "        break"
   ]
  },
  {
   "cell_type": "code",
   "execution_count": null,
   "metadata": {},
   "outputs": [],
   "source": [
    "# Just as you can create a list comprehension, you can create generator\n",
    "# comprehensions as well.\n",
    "values = (-x for x in [1,2,3,4,5])\n",
    "for x in values:\n",
    "    print(x) "
   ]
  },
  {
   "cell_type": "code",
   "execution_count": null,
   "metadata": {},
   "outputs": [],
   "source": [
    "print(values)"
   ]
  },
  {
   "cell_type": "code",
   "execution_count": null,
   "metadata": {},
   "outputs": [],
   "source": [
    "# You can also cast a generator comprehension directly to a list.\n",
    "values = (-x for x in [1,2,3,4,5])\n",
    "gen_to_list = list(values)\n",
    "print(gen_to_list)"
   ]
  },
  {
   "cell_type": "markdown",
   "metadata": {},
   "source": [
    "### Modules"
   ]
  },
  {
   "cell_type": "code",
   "execution_count": null,
   "metadata": {},
   "outputs": [],
   "source": [
    "# You can import modules\n",
    "import math\n",
    "print(math.sqrt(16))  # => 4.0"
   ]
  },
  {
   "cell_type": "code",
   "execution_count": null,
   "metadata": {},
   "outputs": [],
   "source": [
    "# You can get specific functions from a module\n",
    "from math import ceil, floor\n",
    "print(ceil(3.7))   # => 4.0\n",
    "print(floor(3.7))  # => 3.0"
   ]
  },
  {
   "cell_type": "code",
   "execution_count": null,
   "metadata": {},
   "outputs": [],
   "source": [
    "# You can find out which functions and attributes\n",
    "# are defined in a module.\n",
    "import math\n",
    "dir(math)"
   ]
  },
  {
   "cell_type": "code",
   "execution_count": null,
   "metadata": {},
   "outputs": [],
   "source": [
    "# You can shorten module names\n",
    "import math as m\n",
    "math.sqrt(16) == m.sqrt(16)  # => True"
   ]
  },
  {
   "cell_type": "code",
   "execution_count": null,
   "metadata": {},
   "outputs": [],
   "source": [
    "# You can import all functions from a module.\n",
    "# Warning: this is not recommended\n",
    "from math import *"
   ]
  },
  {
   "cell_type": "code",
   "execution_count": null,
   "metadata": {},
   "outputs": [],
   "source": [
    "dir()"
   ]
  }
 ],
 "metadata": {
  "kernelspec": {
   "display_name": "Python 3",
   "language": "python",
   "name": "python3"
  },
  "language_info": {
   "codemirror_mode": {
    "name": "ipython",
    "version": 3
   },
   "file_extension": ".py",
   "mimetype": "text/x-python",
   "name": "python",
   "nbconvert_exporter": "python",
   "pygments_lexer": "ipython3",
   "version": "3.6.5"
  }
 },
 "nbformat": 4,
 "nbformat_minor": 2
}
