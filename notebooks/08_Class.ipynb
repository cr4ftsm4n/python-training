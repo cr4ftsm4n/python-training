{
 "cells": [
  {
   "cell_type": "markdown",
   "metadata": {},
   "source": [
    "# Regex/正则表达式/正規表現\n",
    "\n",
    "* ```python\n",
    "import re\n",
    "```\n",
    "\n",
    "### special characters \n",
    "\n",
    "* dot\n",
    "* ^\n",
    "* $\n",
    "* *\n",
    "* +\n",
    "* ?\n",
    "* {m}\n",
    "* {m,n}\n",
    "* {m,n}?\n",
    "* \\\n",
    "* []\n",
    "* |\n",
    "\n",
    "### re module function\n",
    "\n",
    "* re.compile(pattern, flags=0)\n",
    "* re.search(pattern, string, flags=0)\n",
    "* re.match(pattern, string, flags=0)\n",
    "* re.split(pattern, string, maxsplit=0, flags=0)\n",
    "* re.findall(pattern, string, flags=0)\n",
    "* re.finditer(pattern, string, flags=0)\n",
    "* re.sub(pattern, repl, string, count=0, flags=0)\n",
    "* re.subn(pattern, repl, string, count=0, flags=0)\n",
    "* re.escape(pattern)\n",
    "* re.purge()\n",
    "\n"
   ]
  },
  {
   "cell_type": "markdown",
   "metadata": {},
   "source": [
    "## [regex101](https://regex101.com/)"
   ]
  },
  {
   "cell_type": "code",
   "execution_count": null,
   "metadata": {},
   "outputs": [],
   "source": [
    "import re\n",
    "\n",
    "help(re.split)"
   ]
  },
  {
   "cell_type": "code",
   "execution_count": null,
   "metadata": {},
   "outputs": [],
   "source": [
    "!ls"
   ]
  },
  {
   "cell_type": "code",
   "execution_count": null,
   "metadata": {},
   "outputs": [],
   "source": [
    "import re\n",
    "with open(\"./README.md\") as f:\n",
    "    for line in f:\n",
    "        if re.match(\"^* \", line):\n",
    "            # do nothing\n",
    "        else:\n",
    "            print(line.strip())"
   ]
  },
  {
   "cell_type": "markdown",
   "metadata": {},
   "source": [
    "## tiktokダウンロード"
   ]
  },
  {
   "cell_type": "code",
   "execution_count": null,
   "metadata": {},
   "outputs": [],
   "source": [
    "!pip install requests"
   ]
  },
  {
   "cell_type": "code",
   "execution_count": null,
   "metadata": {},
   "outputs": [],
   "source": [
    "import requests\n",
    "import re\n",
    "import json\n",
    "def get_download_url(video_url):\n",
    "    req = requests.get(url=video_url, verify=False).text\n",
    "    print(req)\n",
    "    video_url_js = re.findall('var data = \\[(.+)\\];', req)[0]\n",
    "    video_html = json.loads(video_url_js)\n",
    "    download_url = video_html['video']['play_addr']['url_list'][0]\n",
    "    return download_url"
   ]
  },
  {
   "cell_type": "code",
   "execution_count": null,
   "metadata": {},
   "outputs": [],
   "source": [
    "get_download_url(\"https://www.tiktokv.com/i18n/share/video/6544957327491992833\")"
   ]
  },
  {
   "cell_type": "markdown",
   "metadata": {},
   "source": [
    "# Class"
   ]
  },
  {
   "cell_type": "code",
   "execution_count": null,
   "metadata": {},
   "outputs": [],
   "source": [
    "a_var = \"asdfasdf\"  # snake_case"
   ]
  },
  {
   "cell_type": "code",
   "execution_count": null,
   "metadata": {},
   "outputs": [],
   "source": [
    "# We use the \"class\" statement to create a class\n",
    "class Human:\n",
    "\n",
    "    # A class attribute. It is shared by all instances of this class\n",
    "    species = \"H. sapiens\"\n",
    "\n",
    "    # Basic initializer, this is called when this class is instantiated.\n",
    "    # Note that the double leading and trailing underscores denote objects\n",
    "    # or attributes that are used by Python but that live in user-controlled\n",
    "    # namespaces. Methods(or objects or attributes) like: __init__, __str__,\n",
    "    # __repr__ etc. are called special methods (or sometimes called dunder methods)\n",
    "    # You should not invent such names on your own.\n",
    "    def __init__(self, name):\n",
    "        # Assign the argument to the instance's name attribute\n",
    "        self.name = name\n",
    "\n",
    "        # Initialize property\n",
    "        self._age = 0\n",
    "\n",
    "    # An instance method. All methods take \"self\" as the first argument\n",
    "    # like this in JAVA\n",
    "    def say(self, msg):\n",
    "        print(\"{name}: {message}\".format(name=self.name, message=msg))\n",
    "\n",
    "    # Another instance method\n",
    "    def sing(self):\n",
    "        return 'yo... yo... microphone check... one two... one two...'\n",
    "\n",
    "    # A class method is shared among all instances\n",
    "    # They are called with the calling class as the first argument\n",
    "    # like java static method\n",
    "    @classmethod\n",
    "    def get_species(cls):\n",
    "        return cls.species\n",
    "\n",
    "    # A static method is called without a class or instance reference\n",
    "    @staticmethod\n",
    "    def grunt():\n",
    "        return \"*grunt*\"\n",
    "\n",
    "    # A property is just like a getter.\n",
    "    # It turns the method age() into an read-only attribute of the same name.\n",
    "    # There's no need to write trivial getters and setters in Python, though.\n",
    "    # syntax suger     \n",
    "    @property\n",
    "    def age(self):\n",
    "        return self._age\n",
    "\n",
    "    # This allows the property to be set\n",
    "    @age.setter\n",
    "    def age(self, age):\n",
    "        self._age = age\n",
    "\n",
    "    # This allows the property to be deleted\n",
    "    @age.deleter\n",
    "    def age(self):\n",
    "        del self._age\n",
    "        "
   ]
  },
  {
   "cell_type": "code",
   "execution_count": null,
   "metadata": {},
   "outputs": [],
   "source": [
    "# Instantiate a class\n",
    "i = Human(name=\"Ian\")\n",
    "i.say(\"hi\")\n",
    "j = Human(\"Joel\")\n",
    "j.say(\"hello\")\n",
    "# i and j are instances of type Human, or in other words: they are Human objects"
   ]
  },
  {
   "cell_type": "code",
   "execution_count": null,
   "metadata": {},
   "outputs": [],
   "source": [
    "# Call our class method\n",
    "i.say(i.get_species())\n",
    "# Change the shared attribute\n",
    "Human.species = \"H. neanderthalensis\"\n",
    "i.say(i.get_species())\n",
    "j.say(j.get_species())"
   ]
  },
  {
   "cell_type": "code",
   "execution_count": null,
   "metadata": {},
   "outputs": [],
   "source": [
    "print(i.species)"
   ]
  },
  {
   "cell_type": "code",
   "execution_count": null,
   "metadata": {},
   "outputs": [],
   "source": [
    "# Call the static method\n",
    "print(Human.grunt())"
   ]
  },
  {
   "cell_type": "code",
   "execution_count": null,
   "metadata": {},
   "outputs": [],
   "source": [
    "# It can be called either on the class (such as C.f()) or on an instance (such as C().f()). The instance is ignored except for its class.\n",
    "print(i.grunt())"
   ]
  },
  {
   "cell_type": "markdown",
   "metadata": {},
   "source": [
    "### TODO  research"
   ]
  },
  {
   "cell_type": "code",
   "execution_count": null,
   "metadata": {},
   "outputs": [],
   "source": [
    "# Update the property for this instance\n",
    "i.age = 42\n",
    "# Get the property\n",
    "i.say(i.age)\n",
    "j.say(j.age)\n",
    "# Delete the property\n",
    "del i.age\n",
    "# i.age"
   ]
  },
  {
   "cell_type": "markdown",
   "metadata": {},
   "source": [
    "## おまけ"
   ]
  },
  {
   "cell_type": "code",
   "execution_count": null,
   "metadata": {},
   "outputs": [],
   "source": [
    "# When a Python interpreter reads a source file it executes all its code.\n",
    "# This __name__ check makes sure this code block is only executed when this\n",
    "# module is the main program.\n",
    "if __name__ == '__main__':"
   ]
  },
  {
   "cell_type": "markdown",
   "metadata": {},
   "source": [
    "## 継承"
   ]
  },
  {
   "cell_type": "code",
   "execution_count": null,
   "metadata": {},
   "outputs": [],
   "source": [
    "# Specify the parent class(es) as parameters to the class definition\n",
    "class Superhero(Human):\n",
    "\n",
    "    # If the child class should inherit all of the parent's definitions without\n",
    "    # any modifications, you can just use the \"pass\" keyword (and nothing else)\n",
    "    # but in this case it is commented out to allow for a unique child class:\n",
    "    # pass\n",
    "\n",
    "    # Child classes can override their parents' attributes\n",
    "    species = 'Superhuman'\n",
    "\n",
    "    # Children automatically inherit their parent class's constructor including\n",
    "    # its arguments, but can also define additional arguments or definitions\n",
    "    # and override its methods such as the class constructor.\n",
    "    # This constructor inherits the \"name\" argument from the \"Human\" class and\n",
    "    # adds the \"superpower\" and \"movie\" arguments:\n",
    "    def __init__(self, name, movie=False,\n",
    "                 superpowers=[\"super strength\", \"bulletproofing\"]):\n",
    "\n",
    "        # add additional class attributes:\n",
    "        self.fictional = True\n",
    "        self.movie = movie\n",
    "        self.superpowers = superpowers\n",
    "\n",
    "        # The \"super\" function lets you access the parent class's methods\n",
    "        # that are overridden by the child, in this case, the __init__ method.\n",
    "        # This calls the parent class constructor:\n",
    "        super().__init__(name)\n",
    "\n",
    "    # override the sing method\n",
    "    def sing(self):\n",
    "        return 'Dun, dun, DUN!'\n",
    "\n",
    "    # add an additional instance method\n",
    "    def boast(self):\n",
    "        for power in self.superpowers:\n",
    "            print(\"I wield the power of {pow}!\".format(pow=power))"
   ]
  },
  {
   "cell_type": "markdown",
   "metadata": {},
   "source": [
    "### スーパーマン"
   ]
  },
  {
   "cell_type": "code",
   "execution_count": null,
   "metadata": {},
   "outputs": [],
   "source": [
    "sup = Superhero(name=\"Tick\", movie=False)"
   ]
  },
  {
   "cell_type": "code",
   "execution_count": null,
   "metadata": {},
   "outputs": [],
   "source": [
    "print(sup)"
   ]
  },
  {
   "cell_type": "code",
   "execution_count": null,
   "metadata": {},
   "outputs": [],
   "source": [
    "# Instance type checks\n",
    "if isinstance(sup, Human):\n",
    "    print('I am human')\n",
    "if type(sup) is Superhero:\n",
    "    print('I am a superhero')"
   ]
  },
  {
   "cell_type": "code",
   "execution_count": null,
   "metadata": {},
   "outputs": [],
   "source": [
    "# Get the Method Resolution search Order used by both getattr() and super()\n",
    "# This attribute is dynamic and can be updated\n",
    "print(Superhero.__mro__)"
   ]
  },
  {
   "cell_type": "code",
   "execution_count": null,
   "metadata": {},
   "outputs": [],
   "source": [
    "# Calls parent method but uses its own class attribute\n",
    "print(sup.get_species())"
   ]
  },
  {
   "cell_type": "code",
   "execution_count": null,
   "metadata": {},
   "outputs": [],
   "source": [
    "# Calls overridden method\n",
    "print(sup.sing())"
   ]
  },
  {
   "cell_type": "code",
   "execution_count": null,
   "metadata": {},
   "outputs": [],
   "source": [
    "# Calls method from Human\n",
    "sup.say('Spoon')"
   ]
  },
  {
   "cell_type": "code",
   "execution_count": null,
   "metadata": {},
   "outputs": [],
   "source": [
    "# Call method that exists only in Superhero\n",
    "sup.boast()"
   ]
  },
  {
   "cell_type": "code",
   "execution_count": null,
   "metadata": {},
   "outputs": [],
   "source": [
    "# Inherited class attribute\n",
    "sup.age = 31\n",
    "print(sup.age)"
   ]
  },
  {
   "cell_type": "code",
   "execution_count": null,
   "metadata": {},
   "outputs": [],
   "source": [
    "# Attribute that only exists within Superhero\n",
    "print('Am I Oscar eligible? ' + str(sup.movie))"
   ]
  },
  {
   "cell_type": "markdown",
   "metadata": {},
   "source": [
    "## 多重継承"
   ]
  },
  {
   "cell_type": "code",
   "execution_count": null,
   "metadata": {},
   "outputs": [],
   "source": [
    "class Bat:\n",
    "    \n",
    "    species = 'Baty'\n",
    "\n",
    "    def __init__(self, can_fly=True):\n",
    "        self.fly = can_fly\n",
    "\n",
    "    # This class also has a say method\n",
    "    def say(self, msg):\n",
    "        msg = '... ... ...'\n",
    "        return msg\n",
    "\n",
    "    # And its own method as well\n",
    "    def sonar(self):\n",
    "        return '))) ... ((('"
   ]
  },
  {
   "cell_type": "code",
   "execution_count": null,
   "metadata": {},
   "outputs": [],
   "source": [
    "# Define Batman as a child that inherits from both Superhero and Bat\n",
    "class Batman(Superhero, Bat):\n",
    "\n",
    "    def __init__(self, *args, **kwargs):\n",
    "        # Typically to inherit attributes you have to call super:\n",
    "        # super(Batman, self).__init__(*args, **kwargs)      \n",
    "        # However we are dealing with multiple inheritance here, and super()\n",
    "        # only works with the next base class in the MRO list.\n",
    "        # So instead we explicitly call __init__ for all ancestors.\n",
    "        # The use of *args and **kwargs allows for a clean way to pass arguments,\n",
    "        # with each parent \"peeling a layer of the onion\".\n",
    "        Superhero.__init__(self, 'anonymous', movie=True, \n",
    "                           superpowers=['Wealthy'], *args, **kwargs)\n",
    "        Bat.__init__(self, *args, can_fly=False, **kwargs)\n",
    "        # override the value for the name attribute\n",
    "        self.name = 'Sad Affleck'\n",
    "\n",
    "    def sing(self):\n",
    "        return 'nan nan nan nan nan batman!'"
   ]
  },
  {
   "cell_type": "markdown",
   "metadata": {},
   "source": [
    "### バットマン"
   ]
  },
  {
   "cell_type": "code",
   "execution_count": null,
   "metadata": {},
   "outputs": [],
   "source": [
    "sup = Batman()"
   ]
  },
  {
   "cell_type": "code",
   "execution_count": null,
   "metadata": {},
   "outputs": [],
   "source": [
    "# Get the Method Resolution search Order used by both getattr() and super().\n",
    "# This attribute is dynamic and can be updated\n",
    "print(Batman.__mro__)"
   ]
  },
  {
   "cell_type": "code",
   "execution_count": null,
   "metadata": {},
   "outputs": [],
   "source": [
    "# Calls parent method but uses its own class attribute\n",
    "print(sup.get_species())"
   ]
  },
  {
   "cell_type": "code",
   "execution_count": null,
   "metadata": {},
   "outputs": [],
   "source": [
    "# Calls overridden method\n",
    "print(sup.sing())"
   ]
  },
  {
   "cell_type": "code",
   "execution_count": null,
   "metadata": {},
   "outputs": [],
   "source": [
    "# Calls method from Human, because inheritance order matters\n",
    "sup.say('I agree')"
   ]
  },
  {
   "cell_type": "code",
   "execution_count": null,
   "metadata": {},
   "outputs": [],
   "source": [
    "# Call method that exists only in 2nd ancestor\n",
    "print(sup.sonar())"
   ]
  },
  {
   "cell_type": "code",
   "execution_count": null,
   "metadata": {},
   "outputs": [],
   "source": [
    "# Inherited class attribute\n",
    "sup.age = 100\n",
    "print(sup.age) "
   ]
  },
  {
   "cell_type": "code",
   "execution_count": null,
   "metadata": {},
   "outputs": [],
   "source": [
    "# Inherited attribute from 2nd ancestor whose default value was overridden.\n",
    "print('Can I fly? ' + str(sup.fly))"
   ]
  }
 ],
 "metadata": {
  "kernelspec": {
   "display_name": "Python 3",
   "language": "python",
   "name": "python3"
  },
  "language_info": {
   "codemirror_mode": {
    "name": "ipython",
    "version": 3
   },
   "file_extension": ".py",
   "mimetype": "text/x-python",
   "name": "python",
   "nbconvert_exporter": "python",
   "pygments_lexer": "ipython3",
   "version": "3.6.4"
  }
 },
 "nbformat": 4,
 "nbformat_minor": 2
}
