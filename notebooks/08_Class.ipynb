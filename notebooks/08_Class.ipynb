{
 "cells": [
  {
   "cell_type": "markdown",
   "metadata": {
    "collapsed": true
   },
   "source": [
    "# Regex/正则表达式/正規表現\n",
    "\n",
    "* ```python\n",
    "import re\n",
    "```\n",
    "\n",
    "### special characters \n",
    "\n",
    "* dot\n",
    "* ^\n",
    "* $\n",
    "* *\n",
    "* +\n",
    "* ?\n",
    "* {m}\n",
    "* {m,n}\n",
    "* {m,n}?\n",
    "* \\\n",
    "* []\n",
    "* |\n",
    "\n",
    "### re module function\n",
    "\n",
    "* re.compile(pattern, flags=0)\n",
    "* re.search(pattern, string, flags=0)\n",
    "* re.match(pattern, string, flags=0)\n",
    "* re.split(pattern, string, maxsplit=0, flags=0)\n",
    "* re.findall(pattern, string, flags=0)\n",
    "* re.finditer(pattern, string, flags=0)\n",
    "* re.sub(pattern, repl, string, count=0, flags=0)\n",
    "* re.subn(pattern, repl, string, count=0, flags=0)\n",
    "* re.escape(pattern)\n",
    "* re.purge()\n",
    "\n"
   ]
  },
  {
   "cell_type": "code",
   "execution_count": 2,
   "metadata": {},
   "outputs": [
    {
     "name": "stdout",
     "output_type": "stream",
     "text": [
      "Help on function split in module re:\n",
      "\n",
      "split(pattern, string, maxsplit=0, flags=0)\n",
      "    Split the source string by the occurrences of the pattern,\n",
      "    returning a list containing the resulting substrings.  If\n",
      "    capturing parentheses are used in pattern, then the text of all\n",
      "    groups in the pattern are also returned as part of the resulting\n",
      "    list.  If maxsplit is nonzero, at most maxsplit splits occur,\n",
      "    and the remainder of the string is returned as the final element\n",
      "    of the list.\n",
      "\n"
     ]
    }
   ],
   "source": [
    "import re\n",
    "\n",
    "help(re.split)"
   ]
  },
  {
   "cell_type": "markdown",
   "metadata": {},
   "source": [
    "## tiktokダウンロード"
   ]
  },
  {
   "cell_type": "code",
   "execution_count": null,
   "metadata": {},
   "outputs": [],
   "source": [
    "def get_download_url(video_url):\n",
    "    \"\"\"\n",
    "    获得带水印的视频播放地址\n",
    "    Parameters:\n",
    "            video_url：带水印的视频播放地址\n",
    "    Returns:\n",
    "            download_url: 带水印的视频下载地址\n",
    "    \"\"\"\n",
    "    req = requests.get(url=video_url, verify=False)\n",
    "    video_url_js = re.findall('var data = \\[(.+)\\];', req.text)[0]\n",
    "    video_html = json.loads(video_url_js)\n",
    "    download_url = video_html['video']['play_addr']['url_list'][0]\n",
    "    return download_url"
   ]
  },
  {
   "cell_type": "code",
   "execution_count": null,
   "metadata": {},
   "outputs": [],
   "source": [
    "get_download_url(\"https://www.tiktokv.com/i18n/share/video/6560042923969219841\")"
   ]
  }
 ],
 "metadata": {
  "kernelspec": {
   "display_name": "Python 3.6",
   "language": "python",
   "name": "python36"
  },
  "language_info": {
   "codemirror_mode": {
    "name": "ipython",
    "version": 3
   },
   "file_extension": ".py",
   "mimetype": "text/x-python",
   "name": "python",
   "nbconvert_exporter": "python",
   "pygments_lexer": "ipython3",
   "version": "3.6.3"
  }
 },
 "nbformat": 4,
 "nbformat_minor": 2
}
